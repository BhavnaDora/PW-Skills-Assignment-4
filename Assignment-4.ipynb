{
 "cells": [
  {
   "cell_type": "markdown",
   "id": "fa024be0-761e-4c2e-9e88-d3f97fd3395f",
   "metadata": {},
   "source": [
    "##### (1) def keyword is used to create(or define) a function."
   ]
  },
  {
   "cell_type": "code",
   "execution_count": 1,
   "id": "6167e730-a222-45ae-a34b-820a15e59fa4",
   "metadata": {},
   "outputs": [],
   "source": [
    "def odd():\n",
    "    n=[]\n",
    "    for i in range(1,25):\n",
    "        if i%2!=0:\n",
    "            n.append(i)\n",
    "    return n"
   ]
  },
  {
   "cell_type": "code",
   "execution_count": 2,
   "id": "95117a8a-ffb8-46a5-a596-177f62eb7b0d",
   "metadata": {},
   "outputs": [
    {
     "data": {
      "text/plain": [
       "[1, 3, 5, 7, 9, 11, 13, 15, 17, 19, 21, 23]"
      ]
     },
     "execution_count": 2,
     "metadata": {},
     "output_type": "execute_result"
    }
   ],
   "source": [
    "odd()"
   ]
  },
  {
   "cell_type": "markdown",
   "id": "040a8a34-641d-49d2-90c1-7970d4f3723d",
   "metadata": {},
   "source": [
    "##### (2) *args is used in some functins to pass any no. of inputs/arguments while calling the function. It stores and returns the arguments as tuple.\n",
    "##### **kwargs is used in some functions to pass any no. of arguments as key-value pairs while calling the function. It stores and returns the arguments as dictionary."
   ]
  },
  {
   "cell_type": "code",
   "execution_count": 4,
   "id": "7d0f3b64-3a16-402d-aea8-09a2074cea4b",
   "metadata": {},
   "outputs": [
    {
     "data": {
      "text/plain": [
       "(1, 2, 3, 4, 'Bhavna', [23, 45.67, True], ('a', 'b', 'c'), 'pwskills')"
      ]
     },
     "execution_count": 4,
     "metadata": {},
     "output_type": "execute_result"
    }
   ],
   "source": [
    "# example showcasing use of *args-\n",
    "\n",
    "def func1(*args):\n",
    "    return args\n",
    "\n",
    "func1(1,2,3,4,\"Bhavna\",[23,45.67,True],(\"a\",\"b\",\"c\"),\"pwskills\")"
   ]
  },
  {
   "cell_type": "code",
   "execution_count": 6,
   "id": "5ab090f3-e15a-4a41-bcbe-31e5c27e3906",
   "metadata": {},
   "outputs": [
    {
     "data": {
      "text/plain": [
       "{'a': 1, 'b': 2, 'c': [1, 2, 3, 4], 'd': ('hi', 'bye')}"
      ]
     },
     "execution_count": 6,
     "metadata": {},
     "output_type": "execute_result"
    }
   ],
   "source": [
    "# example showcasing the use of **kwargs-\n",
    "\n",
    "def func2(**kwargs):\n",
    "    return kwargs\n",
    "\n",
    "func2(a=1,b=2,c=[1,2,3,4],d=(\"hi\",\"bye\"))"
   ]
  },
  {
   "cell_type": "markdown",
   "id": "881c1e5d-c043-4a34-8d14-f3cebbbfc546",
   "metadata": {},
   "source": [
    "##### (3) Iterator in Python is an object that is used to iterate over iterable objects like strings, lists, tuples, dicts, and sets. \n",
    "##### The iterator object is initialized using the iter() method. On calling the iter() method an iterator object is returned.\n",
    "##### The method used for iteration is next() method. It returns the next value for the iterable.\n",
    "\n",
    "##### When we use a for loop to traverse any iterable object, internally it uses the iter() method to get an iterator object, which further uses the next() method to iterate over. This method raises a StopIteration to signal the end of the iteration."
   ]
  },
  {
   "cell_type": "code",
   "execution_count": 13,
   "id": "ddd792e9-d5e4-4c87-9789-bbadd226995c",
   "metadata": {},
   "outputs": [
    {
     "name": "stdout",
     "output_type": "stream",
     "text": [
      "2\n",
      "4\n",
      "6\n",
      "8\n",
      "10\n"
     ]
    }
   ],
   "source": [
    "def func3(l):\n",
    "    it=iter(l)\n",
    "    for j in range(5):\n",
    "        print (next(it))\n",
    "    \n",
    "lst=[2, 4, 6, 8, 10, 12, 14, 16, 18, 20]\n",
    "func3(lst)"
   ]
  },
  {
   "cell_type": "markdown",
   "id": "bf1bb4a3-b599-4f0e-a2a9-39752fab301c",
   "metadata": {},
   "source": [
    "##### (4) Generator function is a function which returns a iterator object and that produces a sequence of values when iterated over. \n",
    "##### To create a generator function we use yield keyword. The yield keyword converts whatever expression it is given with to a generator object and returns it when the generator function is called. \n",
    "##### It is memory efficient because we get the output one by one from the generator function by iterating over the generator object as compared to normal functions where the output is stored and returned at last."
   ]
  },
  {
   "cell_type": "code",
   "execution_count": 1,
   "id": "905935ce-70a2-418f-beda-87beade5c46b",
   "metadata": {},
   "outputs": [
    {
     "data": {
      "text/plain": [
       "<generator object gen_func at 0x7f04453f9700>"
      ]
     },
     "execution_count": 1,
     "metadata": {},
     "output_type": "execute_result"
    }
   ],
   "source": [
    "# Example of a generator function-\n",
    "\n",
    "def gen_func(n):\n",
    "    a=0\n",
    "    b=1\n",
    "    for i in range(n):\n",
    "        yield a\n",
    "        a,b= b,a+b\n",
    "\n",
    "gen_func(10)"
   ]
  },
  {
   "cell_type": "code",
   "execution_count": 2,
   "id": "a508396b-868c-44a5-9f01-c625431682b9",
   "metadata": {},
   "outputs": [
    {
     "name": "stdout",
     "output_type": "stream",
     "text": [
      "0\n",
      "1\n",
      "1\n",
      "2\n",
      "3\n",
      "5\n",
      "8\n",
      "13\n",
      "21\n",
      "34\n"
     ]
    }
   ],
   "source": [
    "for k in gen_func(10):\n",
    "    print(k)"
   ]
  },
  {
   "cell_type": "markdown",
   "id": "3580c043-779e-4792-a166-49eb838f5181",
   "metadata": {},
   "source": [
    "##### (5)-\n"
   ]
  },
  {
   "cell_type": "code",
   "execution_count": 18,
   "id": "8b19e356-b84f-4d64-abe1-bed3d61ad847",
   "metadata": {},
   "outputs": [
    {
     "data": {
      "text/plain": [
       "<generator object prime_num at 0x7f04441aff40>"
      ]
     },
     "execution_count": 18,
     "metadata": {},
     "output_type": "execute_result"
    }
   ],
   "source": [
    "def prime_num():\n",
    "    for i in range(2,1000):\n",
    "        for j in range(2,1000):\n",
    "            if i%j==0:\n",
    "                break\n",
    "        if i==j:\n",
    "            yield i\n",
    "\n",
    "prime_num()"
   ]
  },
  {
   "cell_type": "code",
   "execution_count": 24,
   "id": "de5c827d-d00d-4b9c-a616-35f3068e62d9",
   "metadata": {},
   "outputs": [
    {
     "name": "stdout",
     "output_type": "stream",
     "text": [
      "2\n",
      "3\n",
      "5\n",
      "7\n",
      "11\n",
      "13\n",
      "17\n",
      "19\n",
      "23\n",
      "29\n",
      "31\n",
      "37\n",
      "41\n",
      "43\n",
      "47\n",
      "53\n",
      "59\n",
      "61\n",
      "67\n",
      "71\n"
     ]
    }
   ],
   "source": [
    "n=[]\n",
    "for k in prime_num():\n",
    "    n.append(k)\n",
    "\n",
    "it= iter(n)\n",
    "for r in range(20):\n",
    "    print(next(it))\n",
    "    \n",
    "    "
   ]
  },
  {
   "cell_type": "code",
   "execution_count": null,
   "id": "6cf28451-23fe-4684-9dc9-8a9e9dfeffde",
   "metadata": {},
   "outputs": [],
   "source": []
  }
 ],
 "metadata": {
  "kernelspec": {
   "display_name": "Python 3 (ipykernel)",
   "language": "python",
   "name": "python3"
  },
  "language_info": {
   "codemirror_mode": {
    "name": "ipython",
    "version": 3
   },
   "file_extension": ".py",
   "mimetype": "text/x-python",
   "name": "python",
   "nbconvert_exporter": "python",
   "pygments_lexer": "ipython3",
   "version": "3.10.8"
  }
 },
 "nbformat": 4,
 "nbformat_minor": 5
}
